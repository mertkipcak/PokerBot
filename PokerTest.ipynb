{
 "cells": [
  {
   "cell_type": "code",
   "metadata": {
    "collapsed": true,
    "ExecuteTime": {
     "end_time": "2024-04-28T19:00:33.642030Z",
     "start_time": "2024-04-28T19:00:33.613146Z"
    }
   },
   "source": "typealias Card = Pair<Int, Int>",
   "outputs": [],
   "execution_count": 67
  },
  {
   "metadata": {
    "ExecuteTime": {
     "end_time": "2024-04-28T19:00:33.905398Z",
     "start_time": "2024-04-28T19:00:33.824894Z"
    }
   },
   "cell_type": "code",
   "source": [
    "enum class HandType(val value: Int) {\n",
    "    HIGH_CARD(0),\n",
    "    PAIR(1000),\n",
    "    TWO_PAIRS(2000),\n",
    "    THREE_OF_A_KIND(3000),\n",
    "    STRAIGHT(4000),\n",
    "    FLUSH(5000),\n",
    "    FULL_HOUSE(6000),\n",
    "    FOUR_OF_A_KIND(7000),\n",
    "    STRAIGHT_FLUSH(8000)\n",
    "}"
   ],
   "outputs": [],
   "execution_count": 68
  },
  {
   "metadata": {
    "ExecuteTime": {
     "end_time": "2024-04-28T19:35:42.408732Z",
     "start_time": "2024-04-28T19:35:42.355179Z"
    }
   },
   "cell_type": "code",
   "source": [
    "val example_hand = listOf(\n",
    "    Card(2, 1),\n",
    "    Card(2, 2),\n",
    "    Card(2, 3),\n",
    "    Card(14, 1),\n",
    "    Card(5, 1),\n",
    "    Card(5, 2),\n",
    "    Card(5, 3),\n",
    ")"
   ],
   "outputs": [],
   "execution_count": 103
  },
  {
   "metadata": {
    "ExecuteTime": {
     "end_time": "2024-04-28T19:36:16.475820Z",
     "start_time": "2024-04-28T19:36:16.310671Z"
    }
   },
   "cell_type": "code",
   "source": [
    "fun score(cards: List<Card>): Int {\n",
    "    val groupedByNumber = cards.groupBy { it.first }\n",
    "    val threeKinds = groupedByNumber.values.filter { it.size == 3 }\n",
    "    val bestThreeKind = threeKinds.maxBy { it[0].first }\n",
    "    print(bestThreeKind)\n",
    "    return 0\n",
    "}"
   ],
   "outputs": [],
   "execution_count": 106
  },
  {
   "metadata": {
    "ExecuteTime": {
     "end_time": "2024-04-28T19:36:17.573547Z",
     "start_time": "2024-04-28T19:36:17.546074Z"
    }
   },
   "cell_type": "code",
   "source": "score(example_hand)",
   "outputs": [
    {
     "name": "stdout",
     "output_type": "stream",
     "text": [
      "[(5, 1), (5, 2), (5, 3)]"
     ]
    },
    {
     "data": {
      "text/plain": [
       "0"
      ]
     },
     "execution_count": 107,
     "metadata": {},
     "output_type": "execute_result"
    }
   ],
   "execution_count": 107
  },
  {
   "metadata": {},
   "cell_type": "code",
   "outputs": [],
   "execution_count": null,
   "source": ""
  }
 ],
 "metadata": {
  "kernelspec": {
   "display_name": "Kotlin",
   "language": "kotlin",
   "name": "kotlin"
  },
  "language_info": {
   "name": "kotlin",
   "version": "1.9.23",
   "mimetype": "text/x-kotlin",
   "file_extension": ".kt",
   "pygments_lexer": "kotlin",
   "codemirror_mode": "text/x-kotlin",
   "nbconvert_exporter": ""
  }
 },
 "nbformat": 4,
 "nbformat_minor": 0
}
